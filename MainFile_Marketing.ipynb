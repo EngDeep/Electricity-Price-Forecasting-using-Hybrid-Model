{
  "nbformat": 4,
  "nbformat_minor": 0,
  "metadata": {
    "kernelspec": {
      "display_name": "Python 3",
      "language": "python",
      "name": "python3"
    },
    "language_info": {
      "codemirror_mode": {
        "name": "ipython",
        "version": 3
      },
      "file_extension": ".py",
      "mimetype": "text/x-python",
      "name": "python",
      "nbconvert_exporter": "python",
      "pygments_lexer": "ipython3",
      "version": "3.6.6"
    },
    "colab": {
      "name": "MainFile_Marketing.ipynb",
      "version": "0.3.2",
      "provenance": [],
      "collapsed_sections": [
        "yr7pxTi1bvPU",
        "rEtlDEa9bvQ2",
        "uW1cOLDdbvRf",
        "H_nJE6qKJqLY"
      ],
      "toc_visible": true
    }
  },
  "cells": [
    {
      "cell_type": "markdown",
      "metadata": {
        "id": "yr7pxTi1bvPU",
        "colab_type": "text"
      },
      "source": [
        "# Normal EML Method"
      ]
    },
    {
      "cell_type": "code",
      "metadata": {
        "id": "iz-fkELbbvPX",
        "colab_type": "code",
        "colab": {}
      },
      "source": [
        "import pandas as pd\n",
        "import numpy as np\n",
        "import matplotlib.pyplot as plt\n",
        "from sklearn.metrics import r2_score\n",
        "import copy as cp\n",
        "import itertools\n",
        "import statsmodels.api as sm\n",
        "from sklearn.metrics import mean_squared_error\n",
        "from sklearn.metrics import mean_absolute_error\n",
        "#!pip install pyswarms   #in case Pyswarms is not installed\n",
        "import pyswarms as ps\n"
      ],
      "execution_count": 0,
      "outputs": []
    },
    {
      "cell_type": "code",
      "metadata": {
        "id": "2Kkdt1-Pb2-I",
        "colab_type": "code",
        "outputId": "287d79cf-a97c-4c17-a4c6-c9a64cc2b06c",
        "colab": {
          "base_uri": "https://localhost:8080/",
          "height": 122
        }
      },
      "source": [
        "from google.colab import drive\n",
        "drive.mount('/content/drive')"
      ],
      "execution_count": 0,
      "outputs": [
        {
          "output_type": "stream",
          "text": [
            "Go to this URL in a browser: https://accounts.google.com/o/oauth2/auth?client_id=947318989803-6bn6qk8qdgf4n4g3pfee6491hc0brc4i.apps.googleusercontent.com&redirect_uri=urn%3Aietf%3Awg%3Aoauth%3A2.0%3Aoob&scope=email%20https%3A%2F%2Fwww.googleapis.com%2Fauth%2Fdocs.test%20https%3A%2F%2Fwww.googleapis.com%2Fauth%2Fdrive%20https%3A%2F%2Fwww.googleapis.com%2Fauth%2Fdrive.photos.readonly%20https%3A%2F%2Fwww.googleapis.com%2Fauth%2Fpeopleapi.readonly&response_type=code\n",
            "\n",
            "Enter your authorization code:\n",
            "··········\n",
            "Mounted at /content/drive\n"
          ],
          "name": "stdout"
        }
      ]
    },
    {
      "cell_type": "code",
      "metadata": {
        "id": "TLZWURpjbvPc",
        "colab_type": "code",
        "colab": {}
      },
      "source": [
        "#train_x = pd.read_csv('electricity-related factors.csv',header=None)\n",
        "train_x = pd.read_csv('/content/drive/My Drive/semIII/modeling/marketing/Evolutionary-Multivariate-Electricity-Consumption-Prediction-master/data/electricity-related factors.csv',header=None)"
      ],
      "execution_count": 0,
      "outputs": []
    },
    {
      "cell_type": "code",
      "metadata": {
        "id": "Nwhtsi2LbvPj",
        "colab_type": "code",
        "colab": {}
      },
      "source": [
        "train_y = pd.read_csv('/content/drive/My Drive/semIII/modeling/marketing/Evolutionary-Multivariate-Electricity-Consumption-Prediction-master/data/historical electricity.csv',header=None)\n",
        "#train_y = pd.read_csv('historical electricity.csv',header=None)"
      ],
      "execution_count": 0,
      "outputs": []
    },
    {
      "cell_type": "code",
      "metadata": {
        "id": "X83OooEo97YG",
        "colab_type": "code",
        "colab": {}
      },
      "source": [
        "from sklearn.preprocessing import StandardScaler\n",
        "sc = StandardScaler()\n",
        "sc.fit(train_x)\n",
        "train_x = pd.DataFrame(sc.fit_transform(train_x))\n",
        "sc.fit(train_y)\n",
        "train_y = pd.DataFrame(sc.fit_transform(train_y))"
      ],
      "execution_count": 0,
      "outputs": []
    },
    {
      "cell_type": "code",
      "metadata": {
        "id": "jKXb8P7SbvPm",
        "colab_type": "code",
        "outputId": "2e70a191-a3f6-4dd4-9cb2-d419a82cbce5",
        "colab": {
          "base_uri": "https://localhost:8080/",
          "height": 204
        }
      },
      "source": [
        "train_x.head()"
      ],
      "execution_count": 0,
      "outputs": [
        {
          "output_type": "execute_result",
          "data": {
            "text/html": [
              "<div>\n",
              "<style scoped>\n",
              "    .dataframe tbody tr th:only-of-type {\n",
              "        vertical-align: middle;\n",
              "    }\n",
              "\n",
              "    .dataframe tbody tr th {\n",
              "        vertical-align: top;\n",
              "    }\n",
              "\n",
              "    .dataframe thead th {\n",
              "        text-align: right;\n",
              "    }\n",
              "</style>\n",
              "<table border=\"1\" class=\"dataframe\">\n",
              "  <thead>\n",
              "    <tr style=\"text-align: right;\">\n",
              "      <th></th>\n",
              "      <th>0</th>\n",
              "      <th>1</th>\n",
              "      <th>2</th>\n",
              "    </tr>\n",
              "  </thead>\n",
              "  <tbody>\n",
              "    <tr>\n",
              "      <th>0</th>\n",
              "      <td>-0.766569</td>\n",
              "      <td>-0.310808</td>\n",
              "      <td>-0.649521</td>\n",
              "    </tr>\n",
              "    <tr>\n",
              "      <th>1</th>\n",
              "      <td>-0.843670</td>\n",
              "      <td>-0.350926</td>\n",
              "      <td>-0.700112</td>\n",
              "    </tr>\n",
              "    <tr>\n",
              "      <th>2</th>\n",
              "      <td>-0.978285</td>\n",
              "      <td>-0.779489</td>\n",
              "      <td>0.386462</td>\n",
              "    </tr>\n",
              "    <tr>\n",
              "      <th>3</th>\n",
              "      <td>-1.004372</td>\n",
              "      <td>-0.799229</td>\n",
              "      <td>0.400620</td>\n",
              "    </tr>\n",
              "    <tr>\n",
              "      <th>4</th>\n",
              "      <td>-0.951870</td>\n",
              "      <td>-0.820753</td>\n",
              "      <td>0.541489</td>\n",
              "    </tr>\n",
              "  </tbody>\n",
              "</table>\n",
              "</div>"
            ],
            "text/plain": [
              "          0         1         2\n",
              "0 -0.766569 -0.310808 -0.649521\n",
              "1 -0.843670 -0.350926 -0.700112\n",
              "2 -0.978285 -0.779489  0.386462\n",
              "3 -1.004372 -0.799229  0.400620\n",
              "4 -0.951870 -0.820753  0.541489"
            ]
          },
          "metadata": {
            "tags": []
          },
          "execution_count": 8
        }
      ]
    },
    {
      "cell_type": "code",
      "metadata": {
        "id": "7tD8MeJJbvPq",
        "colab_type": "code",
        "outputId": "ffc9cff3-e39f-452c-83f1-98e5d9e71680",
        "colab": {
          "base_uri": "https://localhost:8080/",
          "height": 51
        }
      },
      "source": [
        "print(train_x.shape)\n",
        "print(train_y.shape)"
      ],
      "execution_count": 0,
      "outputs": [
        {
          "output_type": "stream",
          "text": [
            "(9600, 3)\n",
            "(35040, 1)\n"
          ],
          "name": "stdout"
        }
      ]
    },
    {
      "cell_type": "code",
      "metadata": {
        "id": "EU03FDh8bvPu",
        "colab_type": "code",
        "outputId": "699e7f9b-0da0-4eeb-ec3c-aaf6e48495e1",
        "colab": {
          "base_uri": "https://localhost:8080/",
          "height": 51
        }
      },
      "source": [
        "train_x =np.array(train_x)\n",
        "train_y = np.array(train_y[:9600])\n",
        "train_y.shape\n",
        "train_y.flatten()"
      ],
      "execution_count": 0,
      "outputs": [
        {
          "output_type": "execute_result",
          "data": {
            "text/plain": [
              "array([-0.81574153, -0.84709983, -0.87350683, ..., -0.81971377,\n",
              "       -0.84128134, -0.85652691])"
            ]
          },
          "metadata": {
            "tags": []
          },
          "execution_count": 10
        }
      ]
    },
    {
      "cell_type": "code",
      "metadata": {
        "id": "znXzEQzrbvPw",
        "colab_type": "code",
        "outputId": "eb16ee7b-59a8-4853-be7c-2b81fbce5e7c",
        "colab": {
          "base_uri": "https://localhost:8080/",
          "height": 204
        }
      },
      "source": [
        "data = pd.DataFrame(train_x)\n",
        "data.insert(loc=3,column='3',value=train_y)\n",
        "data.head()"
      ],
      "execution_count": 0,
      "outputs": [
        {
          "output_type": "execute_result",
          "data": {
            "text/html": [
              "<div>\n",
              "<style scoped>\n",
              "    .dataframe tbody tr th:only-of-type {\n",
              "        vertical-align: middle;\n",
              "    }\n",
              "\n",
              "    .dataframe tbody tr th {\n",
              "        vertical-align: top;\n",
              "    }\n",
              "\n",
              "    .dataframe thead th {\n",
              "        text-align: right;\n",
              "    }\n",
              "</style>\n",
              "<table border=\"1\" class=\"dataframe\">\n",
              "  <thead>\n",
              "    <tr style=\"text-align: right;\">\n",
              "      <th></th>\n",
              "      <th>0</th>\n",
              "      <th>1</th>\n",
              "      <th>2</th>\n",
              "      <th>3</th>\n",
              "    </tr>\n",
              "  </thead>\n",
              "  <tbody>\n",
              "    <tr>\n",
              "      <th>0</th>\n",
              "      <td>-0.766569</td>\n",
              "      <td>-0.310808</td>\n",
              "      <td>-0.649521</td>\n",
              "      <td>-0.815742</td>\n",
              "    </tr>\n",
              "    <tr>\n",
              "      <th>1</th>\n",
              "      <td>-0.843670</td>\n",
              "      <td>-0.350926</td>\n",
              "      <td>-0.700112</td>\n",
              "      <td>-0.847100</td>\n",
              "    </tr>\n",
              "    <tr>\n",
              "      <th>2</th>\n",
              "      <td>-0.978285</td>\n",
              "      <td>-0.779489</td>\n",
              "      <td>0.386462</td>\n",
              "      <td>-0.873507</td>\n",
              "    </tr>\n",
              "    <tr>\n",
              "      <th>3</th>\n",
              "      <td>-1.004372</td>\n",
              "      <td>-0.799229</td>\n",
              "      <td>0.400620</td>\n",
              "      <td>-0.883633</td>\n",
              "    </tr>\n",
              "    <tr>\n",
              "      <th>4</th>\n",
              "      <td>-0.951870</td>\n",
              "      <td>-0.820753</td>\n",
              "      <td>0.541489</td>\n",
              "      <td>-0.859156</td>\n",
              "    </tr>\n",
              "  </tbody>\n",
              "</table>\n",
              "</div>"
            ],
            "text/plain": [
              "          0         1         2         3\n",
              "0 -0.766569 -0.310808 -0.649521 -0.815742\n",
              "1 -0.843670 -0.350926 -0.700112 -0.847100\n",
              "2 -0.978285 -0.779489  0.386462 -0.873507\n",
              "3 -1.004372 -0.799229  0.400620 -0.883633\n",
              "4 -0.951870 -0.820753  0.541489 -0.859156"
            ]
          },
          "metadata": {
            "tags": []
          },
          "execution_count": 11
        }
      ]
    },
    {
      "cell_type": "code",
      "metadata": {
        "id": "CnWrNr-DbvPz",
        "colab_type": "code",
        "colab": {}
      },
      "source": [
        "data = np.array(data)"
      ],
      "execution_count": 0,
      "outputs": []
    },
    {
      "cell_type": "code",
      "metadata": {
        "id": "jYOgeNRcbvP2",
        "colab_type": "code",
        "colab": {}
      },
      "source": [
        "# ELM Class\n",
        "\n",
        "class Network(object):\n",
        "\n",
        "    def __init__(self, input_dim, hidden_dim=10, output_dim=1):\n",
        "        '''\n",
        "        Neural Network object \n",
        "        '''\n",
        "        self.N = input_dim\n",
        "        self.M = hidden_dim\n",
        "        self.O = output_dim\n",
        "        \n",
        "        self.W1 = np.matrix(np.random.rand(self.N, self.M))\n",
        "        self.W2 = np.matrix(np.random.rand(self.M, self.O))\n",
        "        \n",
        "        self.U = 0\n",
        "        self.V = 0\n",
        "        self.S = 0\n",
        "        self.H = 0\n",
        "        self.alpha = 0 # for regularization\n",
        "        \n",
        "    # Helper function\n",
        "    def sigmoid(self, x):\n",
        "        return 1.0 / (1.0 + np.exp(-0.1 * x)) - 0.5\n",
        "    \n",
        "    def predict(self, x):\n",
        "        '''\n",
        "        Forward pass to calculate the ouput\n",
        "        '''\n",
        "        x = np.matrix(x)\n",
        "        y = self.sigmoid(x @ self.W1) @ self.W2\n",
        "        return y\n",
        "    \n",
        "    def train(self, x, y):\n",
        "        '''\n",
        "        Compute W2 that lead to minimal LS\n",
        "        '''\n",
        "        X = np.matrix(x)\n",
        "        Y = np.matrix(y)\n",
        "        self.H = np.matrix(self.sigmoid(X @ self.W1))\n",
        "        H = cp.deepcopy(self.H)\n",
        "        \n",
        "        self.svd(H)\n",
        "        iH = np.matrix(self.V) @ np.matrix(np.diag(self.S)).I @ np.matrix(self.U).T\n",
        "\n",
        "        self.W2 = iH * Y\n",
        "        print('W2 values updated..')\n",
        "        return H @ self.W2 - Y\n",
        "    \n",
        "    def svd(self, h):\n",
        "        '''\n",
        "        Compute the Singular Value Decomposition of a matrix H\n",
        "        '''\n",
        "        H = np.matrix(h)\n",
        "        self.U, self.S, Vt = np.linalg.svd(H, full_matrices=False)\n",
        "        self.V = np.matrix(Vt).T\n",
        "        print('SVD computed.. calculating Pseudoinverse..')\n",
        "        return np.matrix(self.U), np.matrix(self.S), np.matrix(self.V)"
      ],
      "execution_count": 0,
      "outputs": []
    },
    {
      "cell_type": "code",
      "metadata": {
        "id": "mBUmCMA72cHv",
        "colab_type": "code",
        "outputId": "fc2800a2-ae6c-4278-a1d4-091fe65f8cad",
        "colab": {
          "base_uri": "https://localhost:8080/",
          "height": 51
        }
      },
      "source": [
        "#subsetting Data into Train and test set\n",
        "\n",
        "X_train = train_x[:7200]\n",
        "Y_train = train_y[:7200]\n",
        "X_test = train_x[7200:len(train_x)]\n",
        "Y_test = train_y[7200:len(train_y)]\n",
        "print(X_train.shape,'\\n',Y_train.shape)"
      ],
      "execution_count": 0,
      "outputs": [
        {
          "output_type": "stream",
          "text": [
            "(7200, 3) \n",
            " (7200, 1)\n"
          ],
          "name": "stdout"
        }
      ]
    },
    {
      "cell_type": "code",
      "metadata": {
        "id": "ciWwBvnIbvQJ",
        "colab_type": "code",
        "outputId": "f92b6c2d-a990-456d-a253-68a431bdf3db",
        "colab": {
          "base_uri": "https://localhost:8080/",
          "height": 1000
        }
      },
      "source": [
        "neurons = []\n",
        "tr_rmse = []\n",
        "te_rmse = []\n",
        "tr_mae  = []\n",
        "te_mae  = []\n",
        "tr_r2 = []\n",
        "te_r2 = []\n",
        "for i in range(1,25):\n",
        "    neuron = i*5\n",
        "    NN = Network(input_dim=3, hidden_dim=neuron, output_dim=1)\n",
        "    eml_residuals = NN.train(X_train,Y_train)\n",
        "\n",
        "    fit1 = NN.predict(X_train)\n",
        "    fit2 = NN.predict(X_test)\n",
        "    #predictions = NN.predict(test_windows.iloc[:,:-1])\n",
        "\n",
        "    eml_fit1 = cp.deepcopy(fit1)\n",
        "    eml_fit2 = cp.deepcopy(fit2)\n",
        "    neurons.append(neuron)\n",
        "    tr_rmse.append(mean_squared_error(eml_fit1,Y_train))\n",
        "    te_rmse.append(mean_squared_error(eml_fit2,Y_test))\n",
        "    tr_mae.append(mean_absolute_error(eml_fit1,Y_train))\n",
        "    te_mae.append(mean_absolute_error(eml_fit2,Y_test))\n",
        "    tr_r2.append(r2_score(eml_fit1, Y_train))\n",
        "    te_r2.append(r2_score(eml_fit2, Y_test))\n",
        "    print(neuron)"
      ],
      "execution_count": 0,
      "outputs": [
        {
          "output_type": "stream",
          "text": [
            "SVD computed.. calculating Pseudoinverse..\n",
            "W2 values updated..\n",
            "5\n",
            "SVD computed.. calculating Pseudoinverse..\n",
            "W2 values updated..\n",
            "10\n",
            "SVD computed.. calculating Pseudoinverse..\n",
            "W2 values updated..\n",
            "15\n",
            "SVD computed.. calculating Pseudoinverse..\n",
            "W2 values updated..\n",
            "20\n",
            "SVD computed.. calculating Pseudoinverse..\n",
            "W2 values updated..\n",
            "25\n",
            "SVD computed.. calculating Pseudoinverse..\n",
            "W2 values updated..\n",
            "30\n",
            "SVD computed.. calculating Pseudoinverse..\n",
            "W2 values updated..\n",
            "35\n",
            "SVD computed.. calculating Pseudoinverse..\n",
            "W2 values updated..\n",
            "40\n",
            "SVD computed.. calculating Pseudoinverse..\n",
            "W2 values updated..\n",
            "45\n",
            "SVD computed.. calculating Pseudoinverse..\n",
            "W2 values updated..\n",
            "50\n",
            "SVD computed.. calculating Pseudoinverse..\n",
            "W2 values updated..\n",
            "55\n",
            "SVD computed.. calculating Pseudoinverse..\n",
            "W2 values updated..\n",
            "60\n",
            "SVD computed.. calculating Pseudoinverse..\n",
            "W2 values updated..\n",
            "65\n",
            "SVD computed.. calculating Pseudoinverse..\n",
            "W2 values updated..\n",
            "70\n",
            "SVD computed.. calculating Pseudoinverse..\n",
            "W2 values updated..\n",
            "75\n",
            "SVD computed.. calculating Pseudoinverse..\n",
            "W2 values updated..\n",
            "80\n",
            "SVD computed.. calculating Pseudoinverse..\n",
            "W2 values updated..\n",
            "85\n",
            "SVD computed.. calculating Pseudoinverse..\n",
            "W2 values updated..\n",
            "90\n",
            "SVD computed.. calculating Pseudoinverse..\n",
            "W2 values updated..\n",
            "95\n",
            "SVD computed.. calculating Pseudoinverse..\n",
            "W2 values updated..\n",
            "100\n",
            "SVD computed.. calculating Pseudoinverse..\n",
            "W2 values updated..\n",
            "105\n",
            "SVD computed.. calculating Pseudoinverse..\n",
            "W2 values updated..\n",
            "110\n",
            "SVD computed.. calculating Pseudoinverse..\n",
            "W2 values updated..\n",
            "115\n",
            "SVD computed.. calculating Pseudoinverse..\n",
            "W2 values updated..\n",
            "120\n"
          ],
          "name": "stdout"
        }
      ]
    },
    {
      "cell_type": "code",
      "metadata": {
        "id": "JxxVHuP9bvQM",
        "colab_type": "code",
        "outputId": "ba0c5fb4-e0d4-499a-e6fb-348e2d8799a6",
        "colab": {
          "base_uri": "https://localhost:8080/",
          "height": 295
        }
      },
      "source": [
        "plt.plot(neurons, tr_mae, marker='.', color='blue', label=\"Train\", linewidth=1.0)\n",
        "plt.plot(neurons, te_mae, marker='.', color='red', label=\"Test\", linewidth=1.0)\n",
        "plt.legend()\n",
        "plt.xlabel('number of hidden neurons')\n",
        "plt.ylabel('mean absolute error')\n",
        "plt.title('MAE V/s Neuron')\n",
        "plt.show()"
      ],
      "execution_count": 0,
      "outputs": [
        {
          "output_type": "display_data",
          "data": {
            "image/png": "[encoded data removed]",
            "text/plain": [
              "<Figure size 432x288 with 1 Axes>"
            ]
          },
          "metadata": {
            "tags": []
          }
        }
      ]
    },
    {
      "cell_type": "code",
      "metadata": {
        "id": "mOJGh1eqbvQR",
        "colab_type": "code",
        "outputId": "aeaac3e2-07ed-4fdf-f674-d951f71deaad",
        "colab": {
          "base_uri": "https://localhost:8080/",
          "height": 295
        }
      },
      "source": [
        "plt.plot(neurons, tr_rmse, marker='.', color='blue', label=\"Train\", linewidth=1.0)\n",
        "plt.plot(neurons, te_rmse, marker='.', color='red', label=\"Test\", linewidth=1.0)\n",
        "plt.legend()\n",
        "plt.xlabel('number of hidden neurons')\n",
        "plt.ylabel('mean square error')\n",
        "plt.title('MSE V/s Neuron')\n",
        "plt.show()"
      ],
      "execution_count": 0,
      "outputs": [
        {
          "output_type": "display_data",
          "data": {
            "image/png": "[encoded data removed]",
            "text/plain": [
              "<Figure size 432x288 with 1 Axes>"
            ]
          },
          "metadata": {
            "tags": []
          }
        }
      ]
    },
    {
      "cell_type": "code",
      "metadata": {
        "id": "RQGGMwC8bvQV",
        "colab_type": "code",
        "outputId": "e6df81f3-2c50-4657-ca39-539a5c886f41",
        "colab": {
          "base_uri": "https://localhost:8080/",
          "height": 295
        }
      },
      "source": [
        "plt.plot(neurons, tr_r2, marker='.', color='blue', label=\"Train\", linewidth=1.0)\n",
        "plt.plot(neurons, te_r2, marker='.', color='red', label=\"Test\", linewidth=1.0)\n",
        "plt.legend()\n",
        "plt.xlabel('number of hidden neurons')\n",
        "plt.ylabel('r2 Score')\n",
        "plt.title('R2 Score V/s Neuron')\n",
        "plt.show()"
      ],
      "execution_count": 0,
      "outputs": [
        {
          "output_type": "display_data",
          "data": {
            "image/png": "[encoded data removed]",
            "text/plain": [
              "<Figure size 432x288 with 1 Axes>"
            ]
          },
          "metadata": {
            "tags": []
          }
        }
      ]
    },
    {
      "cell_type": "code",
      "metadata": {
        "id": "c2eT0EuNbvQa",
        "colab_type": "code",
        "outputId": "0fbb9028-241f-4ca0-dd90-a3807aaaffc7",
        "colab": {
          "base_uri": "https://localhost:8080/",
          "height": 153
        }
      },
      "source": [
        "NN = Network(input_dim=3, hidden_dim=50, output_dim=1)\n",
        "eml_residuals = NN.train(X_train,Y_train)\n",
        "fit1 = NN.predict(X_train)\n",
        "fit2 = NN.predict(X_test)\n",
        "eml_fit1 = cp.deepcopy(fit1)\n",
        "eml_fit2 = cp.deepcopy(fit2)\n",
        "\n",
        "print('Train MAE = ',mean_absolute_error(eml_fit1,Y_train),'\\n Test MAE',mean_absolute_error(eml_fit2,Y_test))\n",
        "print('Train MSE = ',mean_squared_error(eml_fit1,Y_train),'\\n Test MSE',mean_squared_error(eml_fit2,Y_test))\n",
        "print('Train r2 = ',r2_score(eml_fit1,Y_train),'\\n Test R2',r2_score(eml_fit2,Y_test))\n"
      ],
      "execution_count": 0,
      "outputs": [
        {
          "output_type": "stream",
          "text": [
            "SVD computed.. calculating Pseudoinverse..\n",
            "W2 values updated..\n",
            "Train MAE =  0.20124846903692004 \n",
            " Test MAE 0.2219145362604746\n",
            "Train MSE =  0.07176879094914256 \n",
            " Test MSE 0.08818834540797077\n",
            "Train r2 =  0.6014476853326141 \n",
            " Test R2 0.6364662348048952\n"
          ],
          "name": "stdout"
        }
      ]
    },
    {
      "cell_type": "markdown",
      "metadata": {
        "id": "rEtlDEa9bvQ2",
        "colab_type": "text"
      },
      "source": [
        "# apply PSO"
      ]
    },
    {
      "cell_type": "code",
      "metadata": {
        "id": "jRSXrRv0bvRA",
        "colab_type": "code",
        "colab": {}
      },
      "source": [
        "w1 = cp.deepcopy(NN.W1)\n",
        "w2 = cp.deepcopy(NN.W2)"
      ],
      "execution_count": 0,
      "outputs": []
    },
    {
      "cell_type": "code",
      "metadata": {
        "id": "VAWyADEPbvQ-",
        "colab_type": "code",
        "colab": {}
      },
      "source": [
        "def sigmoid(x):\n",
        "        return 1.0 / (1.0 + np.exp(-0.1 * x)) - 0.5"
      ],
      "execution_count": 0,
      "outputs": []
    },
    {
      "cell_type": "code",
      "metadata": {
        "id": "8h5EV64sbvRF",
        "colab_type": "code",
        "colab": {}
      },
      "source": [
        "\n",
        "def loss(param):\n",
        "  pred = sigmoid(X_train@w1)@param\n",
        "  Loss = np.sqrt(np.sum((np.power((pred - Y_train),2))))/len(pred)\n",
        "  return Loss"
      ],
      "execution_count": 0,
      "outputs": []
    },
    {
      "cell_type": "code",
      "metadata": {
        "id": "RkknD2xXbvRK",
        "colab_type": "code",
        "colab": {}
      },
      "source": [
        "def f(x):\n",
        "    n_particles = x.shape[0]\n",
        "    print(x.shape)\n",
        "    j = [loss(x[i]) for i in range(n_particles)]\n",
        "    return np.array(j)"
      ],
      "execution_count": 0,
      "outputs": []
    },
    {
      "cell_type": "code",
      "metadata": {
        "id": "llIkKC2QbvRQ",
        "colab_type": "code",
        "outputId": "832fa271-fc16-41a5-d150-be66704d806e",
        "colab": {
          "base_uri": "https://localhost:8080/",
          "height": 1000
        }
      },
      "source": [
        "%%time\n",
        "# Initialize swarm\n",
        "options = {'c1': 0.5, 'c2': 0.3, 'w':0.9}\n",
        "\n",
        "# Call instance of PSO\n",
        "dimensions = (50 * 1)\n",
        "optimizer = ps.single.GlobalBestPSO(n_particles=10, dimensions=dimensions, options=options)\n",
        "\n",
        "# Perform optimization\n",
        "cost, pos = optimizer.optimize(f, iters=10)\n",
        "print(cost,pos)"
      ],
      "execution_count": 0,
      "outputs": [
        {
          "output_type": "stream",
          "text": [
            "2019-08-18 11:26:55,206 - pyswarms.single.global_best - INFO - Optimize for 10 iters with {'c1': 0.5, 'c2': 0.3, 'w': 0.9}\n",
            "\n",
            "\n",
            "\n",
            "\n",
            "\n",
            "\n",
            "\n",
            "\n",
            "\n",
            "\n",
            "\n",
            "\n",
            "\n",
            "\n",
            "pyswarms.single.global_best:   0%|          |0/10\u001b[A\u001b[A\u001b[A\u001b[A\u001b[A\u001b[A\u001b[A\u001b[A\u001b[A\u001b[A\u001b[A\u001b[A\u001b[A\u001b[A"
          ],
          "name": "stderr"
        },
        {
          "output_type": "stream",
          "text": [
            "(10, 50)\n"
          ],
          "name": "stdout"
        },
        {
          "output_type": "stream",
          "text": [
            "\n",
            "\n",
            "\n",
            "\n",
            "\n",
            "\n",
            "\n",
            "\n",
            "\n",
            "\n",
            "\n",
            "\n",
            "\n",
            "\n",
            "pyswarms.single.global_best:   0%|          |0/10, best_cost=5.18e+3\u001b[A\u001b[A\u001b[A\u001b[A\u001b[A\u001b[A\u001b[A\u001b[A\u001b[A\u001b[A\u001b[A\u001b[A\u001b[A\u001b[A\n",
            "\n",
            "\n",
            "\n",
            "\n",
            "\n",
            "\n",
            "\n",
            "\n",
            "\n",
            "\n",
            "\n",
            "\n",
            "\n",
            "pyswarms.single.global_best:  10%|█         |1/10, best_cost=5.18e+3\u001b[A\u001b[A\u001b[A\u001b[A\u001b[A\u001b[A\u001b[A\u001b[A\u001b[A\u001b[A\u001b[A\u001b[A\u001b[A\u001b[A"
          ],
          "name": "stderr"
        },
        {
          "output_type": "stream",
          "text": [
            "(10, 50)\n"
          ],
          "name": "stdout"
        },
        {
          "output_type": "stream",
          "text": [
            "\n",
            "\n",
            "\n",
            "\n",
            "\n",
            "\n",
            "\n",
            "\n",
            "\n",
            "\n",
            "\n",
            "\n",
            "\n",
            "\n",
            "pyswarms.single.global_best:  10%|█         |1/10, best_cost=5.18e+3\u001b[A\u001b[A\u001b[A\u001b[A\u001b[A\u001b[A\u001b[A\u001b[A\u001b[A\u001b[A\u001b[A\u001b[A\u001b[A\u001b[A\n",
            "\n",
            "\n",
            "\n",
            "\n",
            "\n",
            "\n",
            "\n",
            "\n",
            "\n",
            "\n",
            "\n",
            "\n",
            "\n",
            "pyswarms.single.global_best:  20%|██        |2/10, best_cost=5.18e+3\u001b[A\u001b[A\u001b[A\u001b[A\u001b[A\u001b[A\u001b[A\u001b[A\u001b[A\u001b[A\u001b[A\u001b[A\u001b[A\u001b[A"
          ],
          "name": "stderr"
        },
        {
          "output_type": "stream",
          "text": [
            "(10, 50)\n"
          ],
          "name": "stdout"
        },
        {
          "output_type": "stream",
          "text": [
            "\n",
            "\n",
            "\n",
            "\n",
            "\n",
            "\n",
            "\n",
            "\n",
            "\n",
            "\n",
            "\n",
            "\n",
            "\n",
            "\n",
            "pyswarms.single.global_best:  20%|██        |2/10, best_cost=5.18e+3\u001b[A\u001b[A\u001b[A\u001b[A\u001b[A\u001b[A\u001b[A\u001b[A\u001b[A\u001b[A\u001b[A\u001b[A\u001b[A\u001b[A\n",
            "\n",
            "\n",
            "\n",
            "\n",
            "\n",
            "\n",
            "\n",
            "\n",
            "\n",
            "\n",
            "\n",
            "\n",
            "\n",
            "pyswarms.single.global_best:  30%|███       |3/10, best_cost=5.18e+3\u001b[A\u001b[A\u001b[A\u001b[A\u001b[A\u001b[A\u001b[A\u001b[A\u001b[A\u001b[A\u001b[A\u001b[A\u001b[A\u001b[A"
          ],
          "name": "stderr"
        },
        {
          "output_type": "stream",
          "text": [
            "(10, 50)\n"
          ],
          "name": "stdout"
        },
        {
          "output_type": "stream",
          "text": [
            "\n",
            "\n",
            "\n",
            "\n",
            "\n",
            "\n",
            "\n",
            "\n",
            "\n",
            "\n",
            "\n",
            "\n",
            "\n",
            "\n",
            "pyswarms.single.global_best:  30%|███       |3/10, best_cost=5.18e+3\u001b[A\u001b[A\u001b[A\u001b[A\u001b[A\u001b[A\u001b[A\u001b[A\u001b[A\u001b[A\u001b[A\u001b[A\u001b[A\u001b[A\n",
            "\n",
            "\n",
            "\n",
            "\n",
            "\n",
            "\n",
            "\n",
            "\n",
            "\n",
            "\n",
            "\n",
            "\n",
            "\n",
            "pyswarms.single.global_best:  40%|████      |4/10, best_cost=5.18e+3\u001b[A\u001b[A\u001b[A\u001b[A\u001b[A\u001b[A\u001b[A\u001b[A\u001b[A\u001b[A\u001b[A\u001b[A\u001b[A\u001b[A"
          ],
          "name": "stderr"
        },
        {
          "output_type": "stream",
          "text": [
            "(10, 50)\n"
          ],
          "name": "stdout"
        },
        {
          "output_type": "stream",
          "text": [
            "\n",
            "\n",
            "\n",
            "\n",
            "\n",
            "\n",
            "\n",
            "\n",
            "\n",
            "\n",
            "\n",
            "\n",
            "\n",
            "\n",
            "pyswarms.single.global_best:  40%|████      |4/10, best_cost=5.18e+3\u001b[A\u001b[A\u001b[A\u001b[A\u001b[A\u001b[A\u001b[A\u001b[A\u001b[A\u001b[A\u001b[A\u001b[A\u001b[A\u001b[A\n",
            "\n",
            "\n",
            "\n",
            "\n",
            "\n",
            "\n",
            "\n",
            "\n",
            "\n",
            "\n",
            "\n",
            "\n",
            "\n",
            "pyswarms.single.global_best:  50%|█████     |5/10, best_cost=5.18e+3\u001b[A\u001b[A\u001b[A\u001b[A\u001b[A\u001b[A\u001b[A\u001b[A\u001b[A\u001b[A\u001b[A\u001b[A\u001b[A\u001b[A"
          ],
          "name": "stderr"
        },
        {
          "output_type": "stream",
          "text": [
            "(10, 50)\n"
          ],
          "name": "stdout"
        },
        {
          "output_type": "stream",
          "text": [
            "\n",
            "\n",
            "\n",
            "\n",
            "\n",
            "\n",
            "\n",
            "\n",
            "\n",
            "\n",
            "\n",
            "\n",
            "\n",
            "\n",
            "pyswarms.single.global_best:  50%|█████     |5/10, best_cost=4.79e+3\u001b[A\u001b[A\u001b[A\u001b[A\u001b[A\u001b[A\u001b[A\u001b[A\u001b[A\u001b[A\u001b[A\u001b[A\u001b[A\u001b[A\n",
            "\n",
            "\n",
            "\n",
            "\n",
            "\n",
            "\n",
            "\n",
            "\n",
            "\n",
            "\n",
            "\n",
            "\n",
            "\n",
            "pyswarms.single.global_best:  60%|██████    |6/10, best_cost=4.79e+3\u001b[A\u001b[A\u001b[A\u001b[A\u001b[A\u001b[A\u001b[A\u001b[A\u001b[A\u001b[A\u001b[A\u001b[A\u001b[A\u001b[A"
          ],
          "name": "stderr"
        },
        {
          "output_type": "stream",
          "text": [
            "(10, 50)\n"
          ],
          "name": "stdout"
        },
        {
          "output_type": "stream",
          "text": [
            "\n",
            "\n",
            "\n",
            "\n",
            "\n",
            "\n",
            "\n",
            "\n",
            "\n",
            "\n",
            "\n",
            "\n",
            "\n",
            "\n",
            "pyswarms.single.global_best:  60%|██████    |6/10, best_cost=4.38e+3\u001b[A\u001b[A\u001b[A\u001b[A\u001b[A\u001b[A\u001b[A\u001b[A\u001b[A\u001b[A\u001b[A\u001b[A\u001b[A\u001b[A\n",
            "\n",
            "\n",
            "\n",
            "\n",
            "\n",
            "\n",
            "\n",
            "\n",
            "\n",
            "\n",
            "\n",
            "\n",
            "\n",
            "pyswarms.single.global_best:  70%|███████   |7/10, best_cost=4.38e+3\u001b[A\u001b[A\u001b[A\u001b[A\u001b[A\u001b[A\u001b[A\u001b[A\u001b[A\u001b[A\u001b[A\u001b[A\u001b[A\u001b[A"
          ],
          "name": "stderr"
        },
        {
          "output_type": "stream",
          "text": [
            "(10, 50)\n"
          ],
          "name": "stdout"
        },
        {
          "output_type": "stream",
          "text": [
            "\n",
            "\n",
            "\n",
            "\n",
            "\n",
            "\n",
            "\n",
            "\n",
            "\n",
            "\n",
            "\n",
            "\n",
            "\n",
            "\n",
            "pyswarms.single.global_best:  70%|███████   |7/10, best_cost=4.38e+3\u001b[A\u001b[A\u001b[A\u001b[A\u001b[A\u001b[A\u001b[A\u001b[A\u001b[A\u001b[A\u001b[A\u001b[A\u001b[A\u001b[A\n",
            "\n",
            "\n",
            "\n",
            "\n",
            "\n",
            "\n",
            "\n",
            "\n",
            "\n",
            "\n",
            "\n",
            "\n",
            "\n",
            "pyswarms.single.global_best:  80%|████████  |8/10, best_cost=4.38e+3\u001b[A\u001b[A\u001b[A\u001b[A\u001b[A\u001b[A\u001b[A\u001b[A\u001b[A\u001b[A\u001b[A\u001b[A\u001b[A\u001b[A"
          ],
          "name": "stderr"
        },
        {
          "output_type": "stream",
          "text": [
            "(10, 50)\n"
          ],
          "name": "stdout"
        },
        {
          "output_type": "stream",
          "text": [
            "\n",
            "\n",
            "\n",
            "\n",
            "\n",
            "\n",
            "\n",
            "\n",
            "\n",
            "\n",
            "\n",
            "\n",
            "\n",
            "\n",
            "pyswarms.single.global_best:  80%|████████  |8/10, best_cost=4.38e+3\u001b[A\u001b[A\u001b[A\u001b[A\u001b[A\u001b[A\u001b[A\u001b[A\u001b[A\u001b[A\u001b[A\u001b[A\u001b[A\u001b[A\n",
            "\n",
            "\n",
            "\n",
            "\n",
            "\n",
            "\n",
            "\n",
            "\n",
            "\n",
            "\n",
            "\n",
            "\n",
            "\n",
            "pyswarms.single.global_best:  90%|█████████ |9/10, best_cost=4.38e+3\u001b[A\u001b[A\u001b[A\u001b[A\u001b[A\u001b[A\u001b[A\u001b[A\u001b[A\u001b[A\u001b[A\u001b[A\u001b[A\u001b[A"
          ],
          "name": "stderr"
        },
        {
          "output_type": "stream",
          "text": [
            "(10, 50)\n"
          ],
          "name": "stdout"
        },
        {
          "output_type": "stream",
          "text": [
            "\n",
            "\n",
            "\n",
            "\n",
            "\n",
            "\n",
            "\n",
            "\n",
            "\n",
            "\n",
            "\n",
            "\n",
            "\n",
            "\n",
            "pyswarms.single.global_best:  90%|█████████ |9/10, best_cost=4.38e+3\u001b[A\u001b[A\u001b[A\u001b[A\u001b[A\u001b[A\u001b[A\u001b[A\u001b[A\u001b[A\u001b[A\u001b[A\u001b[A\u001b[A\n",
            "\n",
            "\n",
            "\n",
            "\n",
            "\n",
            "\n",
            "\n",
            "\n",
            "\n",
            "\n",
            "\n",
            "\n",
            "\n",
            "pyswarms.single.global_best: 100%|██████████|10/10, best_cost=4.38e+3\u001b[A\u001b[A\u001b[A\u001b[A\u001b[A\u001b[A\u001b[A\u001b[A\u001b[A\u001b[A\u001b[A\u001b[A\u001b[A\u001b[A\n",
            "\n",
            "\n",
            "\n",
            "\n",
            "\n",
            "\n",
            "\n",
            "\n",
            "\n",
            "\n",
            "\n",
            "\n",
            "\n",
            "\u001b[A\u001b[A\u001b[A\u001b[A\u001b[A\u001b[A\u001b[A\u001b[A\u001b[A\u001b[A\u001b[A\u001b[A\u001b[A\u001b[A2019-08-18 11:28:04,857 - pyswarms.single.global_best - INFO - Optimization finished | best cost: 4384.085429142764, best pos: [-1.01042176  0.39589572  0.28289931  0.45635794  0.1845113  -0.25685771\n",
            " -0.13165179 -0.77434326  0.02403827 -0.29303648 -0.05362545 -0.0686187\n",
            "  0.44839932 -0.01412898  0.47711333  0.26568292 -0.43739088  0.38950405\n",
            "  0.00415889 -0.09347538  0.40981028 -0.58514155  0.38912523 -0.39825546\n",
            "  0.05706221  0.13034347  0.79555198  0.0910253  -0.31886967  0.40441009\n",
            " -0.00807209 -0.01700101  0.13926087  0.04111175 -0.43939321 -0.08801831\n",
            "  0.663147   -0.51503075  0.11290423  0.36216295  0.00931375  0.0809528\n",
            "  0.24042982 -0.22651107 -0.1469847  -0.0484282  -0.5542631   0.37556603\n",
            "  0.11256003  0.15339964]\n"
          ],
          "name": "stderr"
        },
        {
          "output_type": "stream",
          "text": [
            "4384.085429142764 [-1.01042176  0.39589572  0.28289931  0.45635794  0.1845113  -0.25685771\n",
            " -0.13165179 -0.77434326  0.02403827 -0.29303648 -0.05362545 -0.0686187\n",
            "  0.44839932 -0.01412898  0.47711333  0.26568292 -0.43739088  0.38950405\n",
            "  0.00415889 -0.09347538  0.40981028 -0.58514155  0.38912523 -0.39825546\n",
            "  0.05706221  0.13034347  0.79555198  0.0910253  -0.31886967  0.40441009\n",
            " -0.00807209 -0.01700101  0.13926087  0.04111175 -0.43939321 -0.08801831\n",
            "  0.663147   -0.51503075  0.11290423  0.36216295  0.00931375  0.0809528\n",
            "  0.24042982 -0.22651107 -0.1469847  -0.0484282  -0.5542631   0.37556603\n",
            "  0.11256003  0.15339964]\n",
            "CPU times: user 1min 12s, sys: 10.3 s, total: 1min 22s\n",
            "Wall time: 1min 9s\n"
          ],
          "name": "stdout"
        }
      ]
    },
    {
      "cell_type": "code",
      "metadata": {
        "id": "Fh-nhDfdbvRW",
        "colab_type": "code",
        "colab": {}
      },
      "source": [
        "def loss2(param):\n",
        "    pred = sigmoid(X_test@w1)@param\n",
        "    Loss = np.sqrt(np.sum((np.power((pred - Y_test),2))))/len(pred)\n",
        "    return Loss"
      ],
      "execution_count": 0,
      "outputs": []
    },
    {
      "cell_type": "code",
      "metadata": {
        "id": "hipBS9JpbvRc",
        "colab_type": "code",
        "outputId": "265f08ff-b995-4147-f7d1-5057ac6c35c0",
        "colab": {
          "base_uri": "https://localhost:8080/",
          "height": 51
        }
      },
      "source": [
        "p = pos.reshape(50,1)\n",
        "print('train Error with POS = ',loss(p))\n",
        "print('test Error with POS = ',loss2(p))"
      ],
      "execution_count": 0,
      "outputs": [
        {
          "output_type": "stream",
          "text": [
            "train Error with POS =  0.00717647807705351\n",
            "test Error with POS =  0.013700625665038888\n"
          ],
          "name": "stdout"
        }
      ]
    },
    {
      "cell_type": "markdown",
      "metadata": {
        "id": "uW1cOLDdbvRf",
        "colab_type": "text"
      },
      "source": [
        "# ARIMA Model"
      ]
    },
    {
      "cell_type": "code",
      "metadata": {
        "id": "g7wmhO2rbvRh",
        "colab_type": "code",
        "colab": {}
      },
      "source": [
        "y = pd.DataFrame(cp.deepcopy(train_y))"
      ],
      "execution_count": 0,
      "outputs": []
    },
    {
      "cell_type": "code",
      "metadata": {
        "id": "AIarlGCwdowj",
        "colab_type": "code",
        "colab": {}
      },
      "source": [
        "station_y = []\n",
        "for i in range(1,len(y)):\n",
        "  station_y.append(y.iloc[i-1]- y.iloc[i])"
      ],
      "execution_count": 0,
      "outputs": []
    },
    {
      "cell_type": "code",
      "metadata": {
        "id": "4bGoexMWeebD",
        "colab_type": "code",
        "colab": {}
      },
      "source": [
        "station_y = pd.DataFrame(station_y)\n",
        "y = station_y"
      ],
      "execution_count": 0,
      "outputs": []
    },
    {
      "cell_type": "code",
      "metadata": {
        "id": "eOAxBYWRbvRk",
        "colab_type": "code",
        "outputId": "0fa41e87-2784-4fae-ba55-31cfc530bcd3",
        "colab": {
          "base_uri": "https://localhost:8080/",
          "height": 424
        }
      },
      "source": [
        "y.plot(figsize=(20, 6))\n",
        "plt.xlabel('days')\n",
        "plt.ylabel('price')\n",
        "plt.title('daily Price of electricity')\n",
        "plt.show()"
      ],
      "execution_count": 0,
      "outputs": [
        {
          "output_type": "display_data",
          "data": {
            "image/png": "[encoded data removed]",
            "text/plain": [
              "<Figure size 1440x432 with 1 Axes>"
            ]
          },
          "metadata": {
            "tags": []
          }
        }
      ]
    },
    {
      "cell_type": "code",
      "metadata": {
        "id": "m9a43cPnbvRo",
        "colab_type": "code",
        "outputId": "b7cf581d-578c-463e-8481-b932edc23842",
        "colab": {
          "base_uri": "https://localhost:8080/",
          "height": 545
        }
      },
      "source": [
        "from statsmodels.graphics.tsaplots import plot_acf\n",
        "plot_acf(y)"
      ],
      "execution_count": 0,
      "outputs": [
        {
          "output_type": "execute_result",
          "data": {
            "image/png": "[encoded data removed]",
            "text/plain": [
              "<Figure size 432x288 with 1 Axes>"
            ]
          },
          "metadata": {
            "tags": []
          },
          "execution_count": 108
        },
        {
          "output_type": "display_data",
          "data": {
            "image/png": "[encoded data removed]",
            "text/plain": [
              "<Figure size 432x288 with 1 Axes>"
            ]
          },
          "metadata": {
            "tags": []
          }
        }
      ]
    },
    {
      "cell_type": "code",
      "metadata": {
        "id": "tKncsh4abvRr",
        "colab_type": "code",
        "outputId": "ba745f33-4d6b-4e2e-addc-8e8de600d233",
        "colab": {
          "base_uri": "https://localhost:8080/",
          "height": 119
        }
      },
      "source": [
        "# Test for Stationarity\n",
        "\n",
        "from statsmodels.tsa.stattools import adfuller\n",
        "X = y.values\n",
        "X = X.flatten()\n",
        "result = adfuller(X)\n",
        "print('ADF Statistic: %f' % result[0])\n",
        "print('p-value: %f' % result[1])\n",
        "print('Critical Values:')\n",
        "for key, value in result[4].items():\n",
        "\tprint('\\t%s: %.3f' % (key, value))"
      ],
      "execution_count": 0,
      "outputs": [
        {
          "output_type": "stream",
          "text": [
            "ADF Statistic: -14.468415\n",
            "p-value: 0.000000\n",
            "Critical Values:\n",
            "\t1%: -3.431\n",
            "\t5%: -2.862\n",
            "\t10%: -2.567\n"
          ],
          "name": "stdout"
        }
      ]
    },
    {
      "cell_type": "code",
      "metadata": {
        "id": "9Wxbu7a7bvRu",
        "colab_type": "code",
        "outputId": "986c26d0-4b86-4026-9f67-eb2124100acf",
        "colab": {
          "base_uri": "https://localhost:8080/",
          "height": 102
        }
      },
      "source": [
        "p = d = q = range(0, 2)\n",
        "pdq = list(itertools.product(p, d, q))\n",
        "seasonal_pdq = [(x[0], x[1], x[2], 15) for x in list(itertools.product(p, d, q))]\n",
        "print('Examples of parameter combinations for Seasonal ARIMA...')\n",
        "print('SARIMAX: {} x {}'.format(pdq[1], seasonal_pdq[1]))\n",
        "print('SARIMAX: {} x {}'.format(pdq[1], seasonal_pdq[2]))\n",
        "print('SARIMAX: {} x {}'.format(pdq[2], seasonal_pdq[3]))\n",
        "print('SARIMAX: {} x {}'.format(pdq[2], seasonal_pdq[4]))"
      ],
      "execution_count": 0,
      "outputs": [
        {
          "output_type": "stream",
          "text": [
            "Examples of parameter combinations for Seasonal ARIMA...\n",
            "SARIMAX: (0, 0, 1) x (0, 0, 1, 15)\n",
            "SARIMAX: (0, 0, 1) x (0, 1, 0, 15)\n",
            "SARIMAX: (0, 1, 0) x (0, 1, 1, 15)\n",
            "SARIMAX: (0, 1, 0) x (1, 0, 0, 15)\n"
          ],
          "name": "stdout"
        }
      ]
    },
    {
      "cell_type": "code",
      "metadata": {
        "id": "24QhAfuvbvRw",
        "colab_type": "code",
        "outputId": "b17bbf60-d172-431e-9e73-2332c24efcc4",
        "colab": {
          "base_uri": "https://localhost:8080/",
          "height": 1000
        }
      },
      "source": [
        "for param in pdq:\n",
        "    for param_seasonal in seasonal_pdq:\n",
        "        try:\n",
        "            mod = sm.tsa.statespace.SARIMAX(y,order=param,seasonal_order=param_seasonal,enforce_stationarity=False,enforce_invertibility=False)\n",
        "            results = mod.fit()\n",
        "            print('ARIMA{}x{}12 - AIC:{}'.format(param, param_seasonal, results.aic))\n",
        "        except:\n",
        "            continue"
      ],
      "execution_count": 0,
      "outputs": [
        {
          "output_type": "stream",
          "text": [
            "ARIMA(0, 0, 0)x(0, 0, 0, 15)12 - AIC:128021.37665993022\n",
            "ARIMA(0, 0, 0)x(0, 0, 1, 15)12 - AIC:116796.61574058804\n",
            "ARIMA(0, 0, 0)x(0, 1, 0, 15)12 - AIC:100985.40300539703\n",
            "ARIMA(0, 0, 0)x(0, 1, 1, 15)12 - AIC:99998.11475776233\n",
            "ARIMA(0, 0, 0)x(1, 0, 0, 15)12 - AIC:100850.92180130104\n",
            "ARIMA(0, 0, 0)x(1, 0, 1, 15)12 - AIC:99912.49909290895\n",
            "ARIMA(0, 0, 0)x(1, 1, 0, 15)12 - AIC:100294.64272607278\n",
            "ARIMA(0, 0, 0)x(1, 1, 1, 15)12 - AIC:98876.69713659403\n",
            "ARIMA(0, 0, 1)x(0, 0, 0, 15)12 - AIC:115336.45181589195\n",
            "ARIMA(0, 0, 1)x(0, 0, 1, 15)12 - AIC:105926.66874841339\n",
            "ARIMA(0, 0, 1)x(0, 1, 0, 15)12 - AIC:91223.67559871914\n",
            "ARIMA(0, 0, 1)x(0, 1, 1, 15)12 - AIC:90900.24402634476\n",
            "ARIMA(0, 0, 1)x(1, 0, 0, 15)12 - AIC:91069.53138211492\n",
            "ARIMA(0, 0, 1)x(1, 0, 1, 15)12 - AIC:90803.01238535906\n",
            "ARIMA(0, 0, 1)x(1, 1, 0, 15)12 - AIC:90988.31017318627\n",
            "ARIMA(0, 0, 1)x(1, 1, 1, 15)12 - AIC:88844.40213553872\n",
            "ARIMA(0, 1, 0)x(0, 0, 0, 15)12 - AIC:73247.12676576411\n",
            "ARIMA(0, 1, 0)x(0, 0, 1, 15)12 - AIC:73138.74627175047\n",
            "ARIMA(0, 1, 0)x(0, 1, 0, 15)12 - AIC:79571.56724485723\n"
          ],
          "name": "stdout"
        },
        {
          "output_type": "stream",
          "text": [
            "/usr/local/lib/python3.6/dist-packages/statsmodels/base/model.py:512: ConvergenceWarning: Maximum Likelihood optimization failed to converge. Check mle_retvals\n",
            "  \"Check mle_retvals\", ConvergenceWarning)\n"
          ],
          "name": "stderr"
        },
        {
          "output_type": "stream",
          "text": [
            "ARIMA(0, 1, 0)x(0, 1, 1, 15)12 - AIC:73112.82067192913\n",
            "ARIMA(0, 1, 0)x(1, 0, 0, 15)12 - AIC:73145.92382518815\n",
            "ARIMA(0, 1, 0)x(1, 0, 1, 15)12 - AIC:73138.68695960203\n",
            "ARIMA(0, 1, 0)x(1, 1, 0, 15)12 - AIC:76976.270921838\n",
            "ARIMA(0, 1, 0)x(1, 1, 1, 15)12 - AIC:73113.40152271677\n",
            "ARIMA(0, 1, 1)x(0, 0, 0, 15)12 - AIC:73007.21031014927\n",
            "ARIMA(0, 1, 1)x(0, 0, 1, 15)12 - AIC:72901.28942082163\n",
            "ARIMA(0, 1, 1)x(0, 1, 0, 15)12 - AIC:79380.52166535083\n",
            "ARIMA(0, 1, 1)x(0, 1, 1, 15)12 - AIC:72870.72073570774\n",
            "ARIMA(0, 1, 1)x(1, 0, 0, 15)12 - AIC:72914.96991404607\n",
            "ARIMA(0, 1, 1)x(1, 0, 1, 15)12 - AIC:72902.71207996104\n",
            "ARIMA(0, 1, 1)x(1, 1, 0, 15)12 - AIC:76712.09057875317\n",
            "ARIMA(0, 1, 1)x(1, 1, 1, 15)12 - AIC:72871.93922593212\n",
            "ARIMA(1, 0, 0)x(0, 0, 0, 15)12 - AIC:73247.91441312106\n"
          ],
          "name": "stdout"
        },
        {
          "output_type": "stream",
          "text": [
            "/usr/local/lib/python3.6/dist-packages/statsmodels/base/model.py:512: ConvergenceWarning: Maximum Likelihood optimization failed to converge. Check mle_retvals\n",
            "  \"Check mle_retvals\", ConvergenceWarning)\n"
          ],
          "name": "stderr"
        },
        {
          "output_type": "stream",
          "text": [
            "ARIMA(1, 0, 0)x(0, 0, 1, 15)12 - AIC:73142.45971258145\n",
            "ARIMA(1, 0, 0)x(0, 1, 0, 15)12 - AIC:79322.33256821914\n",
            "ARIMA(1, 0, 0)x(0, 1, 1, 15)12 - AIC:73020.14542666945\n",
            "ARIMA(1, 0, 0)x(1, 0, 0, 15)12 - AIC:73139.50816049277\n",
            "ARIMA(1, 0, 0)x(1, 0, 1, 15)12 - AIC:73139.39628480218\n",
            "ARIMA(1, 0, 0)x(1, 1, 0, 15)12 - AIC:76846.06044551362\n",
            "ARIMA(1, 0, 0)x(1, 1, 1, 15)12 - AIC:73019.81319423752\n",
            "ARIMA(1, 0, 1)x(0, 0, 0, 15)12 - AIC:73005.14810787649\n",
            "ARIMA(1, 0, 1)x(0, 0, 1, 15)12 - AIC:72898.671125831\n",
            "ARIMA(1, 0, 1)x(0, 1, 0, 15)12 - AIC:79039.6332617439\n",
            "ARIMA(1, 0, 1)x(0, 1, 1, 15)12 - AIC:72740.66372715181\n",
            "ARIMA(1, 0, 1)x(1, 0, 0, 15)12 - AIC:72905.69692545512\n",
            "ARIMA(1, 0, 1)x(1, 0, 1, 15)12 - AIC:72900.167786289\n",
            "ARIMA(1, 0, 1)x(1, 1, 0, 15)12 - AIC:76530.01801933303\n",
            "ARIMA(1, 0, 1)x(1, 1, 1, 15)12 - AIC:72740.87275208632\n",
            "ARIMA(1, 1, 0)x(0, 0, 0, 15)12 - AIC:73072.57236439138\n",
            "ARIMA(1, 1, 0)x(0, 0, 1, 15)12 - AIC:72966.33524043804\n",
            "ARIMA(1, 1, 0)x(0, 1, 0, 15)12 - AIC:79441.88501655722\n",
            "ARIMA(1, 1, 0)x(0, 1, 1, 15)12 - AIC:72936.97408058992\n",
            "ARIMA(1, 1, 0)x(1, 0, 0, 15)12 - AIC:72966.43599389578\n",
            "ARIMA(1, 1, 0)x(1, 0, 1, 15)12 - AIC:72967.69464538302\n",
            "ARIMA(1, 1, 0)x(1, 1, 0, 15)12 - AIC:76769.58620542737\n",
            "ARIMA(1, 1, 0)x(1, 1, 1, 15)12 - AIC:72938.09893283034\n",
            "ARIMA(1, 1, 1)x(0, 0, 0, 15)12 - AIC:72950.24636163606\n",
            "ARIMA(1, 1, 1)x(0, 0, 1, 15)12 - AIC:72843.7974154125\n",
            "ARIMA(1, 1, 1)x(0, 1, 0, 15)12 - AIC:79303.56617030033\n",
            "ARIMA(1, 1, 1)x(0, 1, 1, 15)12 - AIC:72813.69963075101\n",
            "ARIMA(1, 1, 1)x(1, 0, 0, 15)12 - AIC:72850.55143604086\n",
            "ARIMA(1, 1, 1)x(1, 0, 1, 15)12 - AIC:72845.13327967367\n",
            "ARIMA(1, 1, 1)x(1, 1, 0, 15)12 - AIC:76646.43295673034\n",
            "ARIMA(1, 1, 1)x(1, 1, 1, 15)12 - AIC:72814.706315228\n"
          ],
          "name": "stdout"
        }
      ]
    },
    {
      "cell_type": "code",
      "metadata": {
        "id": "LLsilyxUetEp",
        "colab_type": "code",
        "outputId": "563a7627-f766-47a3-9dca-b24d2bcc86b4",
        "colab": {
          "base_uri": "https://localhost:8080/",
          "height": 170
        }
      },
      "source": [
        "mod = sm.tsa.statespace.SARIMAX(y,\n",
        "                                order=(1, 0, 1),\n",
        "                                seasonal_order=(1, 1, 1, 12),\n",
        "                                enforce_stationarity=False,\n",
        "                                enforce_invertibility=False)\n",
        "results = mod.fit()\n",
        "print(results.summary().tables[1])\n"
      ],
      "execution_count": 0,
      "outputs": [
        {
          "output_type": "stream",
          "text": [
            "==============================================================================\n",
            "                 coef    std err          z      P>|z|      [0.025      0.975]\n",
            "------------------------------------------------------------------------------\n",
            "ar.L1          0.9709      0.001   1042.485      0.000       0.969       0.973\n",
            "ma.L1          0.1920      0.001    135.427      0.000       0.189       0.195\n",
            "ar.S.L12   -3.505e-06      0.001     -0.003      0.998      -0.002       0.002\n",
            "ma.S.L12      -1.0000      1.734     -0.577      0.564      -4.399       2.399\n",
            "sigma2         0.0057      0.010      0.576      0.564      -0.014       0.025\n",
            "==============================================================================\n"
          ],
          "name": "stdout"
        }
      ]
    },
    {
      "cell_type": "code",
      "metadata": {
        "id": "LX40FIc9ufji",
        "colab_type": "code",
        "outputId": "42709131-e8e3-47cc-82fe-559b7993de96",
        "colab": {
          "base_uri": "https://localhost:8080/",
          "height": 533
        }
      },
      "source": [
        "results.plot_diagnostics(figsize=(16, 8))\n",
        "plt.show()"
      ],
      "execution_count": 0,
      "outputs": [
        {
          "output_type": "display_data",
          "data": {
            "image/png": "[encoded data removed]",
            "text/plain": [
              "<Figure size 1152x576 with 4 Axes>"
            ]
          },
          "metadata": {
            "tags": []
          }
        }
      ]
    },
    {
      "cell_type": "code",
      "metadata": {
        "id": "xnQCcGhn1nli",
        "colab_type": "code",
        "colab": {}
      },
      "source": [
        "pred = results.predict(start=7200)"
      ],
      "execution_count": 0,
      "outputs": []
    },
    {
      "cell_type": "code",
      "metadata": {
        "id": "13HiogjS3f3i",
        "colab_type": "code",
        "outputId": "faa83388-cd3f-486e-a01a-912123762902",
        "colab": {
          "base_uri": "https://localhost:8080/",
          "height": 34
        }
      },
      "source": [
        "pred = np.array(pred)\n",
        "pred.flatten().shape"
      ],
      "execution_count": 0,
      "outputs": [
        {
          "output_type": "execute_result",
          "data": {
            "text/plain": [
              "(2400,)"
            ]
          },
          "metadata": {
            "tags": []
          },
          "execution_count": 117
        }
      ]
    },
    {
      "cell_type": "code",
      "metadata": {
        "id": "KygG0cTi72qi",
        "colab_type": "code",
        "outputId": "e7732726-0716-4d27-af91-50dc81ec5892",
        "colab": {
          "base_uri": "https://localhost:8080/",
          "height": 68
        }
      },
      "source": [
        "#RESULTS OF ARIMA\n",
        "\n",
        "print('r2 score=',r2_score(pred,Y_test))\n",
        "print('MSE score=',mean_squared_error(pred,Y_test))\n",
        "print('MAE score=',mean_absolute_error(pred,Y_test))"
      ],
      "execution_count": 0,
      "outputs": [
        {
          "output_type": "stream",
          "text": [
            "r2 score= 0.9796533059177293\n",
            "MSE score= 0.0030286462433821728\n",
            "MAE score= 0.03197152459480223\n"
          ],
          "name": "stdout"
        }
      ]
    },
    {
      "cell_type": "markdown",
      "metadata": {
        "id": "H_nJE6qKJqLY",
        "colab_type": "text"
      },
      "source": [
        "# Making Final Prediction (Combining ARIMA and EML)"
      ]
    },
    {
      "cell_type": "code",
      "metadata": {
        "id": "gtRv4v1iJzNx",
        "colab_type": "code",
        "outputId": "0575d9ab-da20-4ab0-e5cb-5121a7a4297d",
        "colab": {
          "base_uri": "https://localhost:8080/",
          "height": 34
        }
      },
      "source": [
        "pred2 = np.array(eml_fit2).flatten()\n",
        "pred2.shape"
      ],
      "execution_count": 0,
      "outputs": [
        {
          "output_type": "execute_result",
          "data": {
            "text/plain": [
              "(2400,)"
            ]
          },
          "metadata": {
            "tags": []
          },
          "execution_count": 120
        }
      ]
    },
    {
      "cell_type": "code",
      "metadata": {
        "id": "566B3rBxKF0a",
        "colab_type": "code",
        "colab": {}
      },
      "source": [
        "res = (pred + pred2)/2"
      ],
      "execution_count": 0,
      "outputs": []
    },
    {
      "cell_type": "code",
      "metadata": {
        "id": "VVZNQnT7Kk16",
        "colab_type": "code",
        "outputId": "b4268d77-85cc-4e41-8ec5-9d249ae4c52c",
        "colab": {
          "base_uri": "https://localhost:8080/",
          "height": 68
        }
      },
      "source": [
        "print('r2 score=',r2_score(res,Y_test))\n",
        "print('MSE Error=',mean_squared_error(res,Y_test))\n",
        "print('MAE Error=',mean_absolute_error(res,Y_test))"
      ],
      "execution_count": 0,
      "outputs": [
        {
          "output_type": "stream",
          "text": [
            "r2 score= 0.8745434893711111\n",
            "MSE Error= 0.02253866818403588\n",
            "MAE Error= 0.11286566370871261\n"
          ],
          "name": "stdout"
        }
      ]
    },
    {
      "cell_type": "code",
      "metadata": {
        "id": "RD408hdhPsCJ",
        "colab_type": "code",
        "colab": {}
      },
      "source": [
        ""
      ],
      "execution_count": 0,
      "outputs": []
    }
  ]
}